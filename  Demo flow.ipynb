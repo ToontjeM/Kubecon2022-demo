{
 "cells": [
  {
   "cell_type": "markdown",
   "id": "eb65cbff-b307-4dbc-9417-cee3de41cb3c",
   "metadata": {},
   "source": [
    "# Kubernetes demo"
   ]
  },
  {
   "cell_type": "markdown",
   "id": "de86ebb3-8f9e-4848-96b5-e71c596d215f",
   "metadata": {},
   "source": [
    "# Description\n",
    "In this demo I'll show you how to create a Postgres cluster with CloudNativePG kubernetes operator. The features that I want to show you are:\n",
    "- Kubernetes plugin install\n",
    "- CloudNativePG operator install\n",
    "- Postgres cluster install\n",
    "- Insert data in the cluster\n",
    "- Switchover (promote)\n",
    "- Failover\n",
    "- Backup\n",
    "- Recovery\n",
    "- Rolling updates (minor and major)\n",
    "\n",
    "# Prerequisites\n",
    "- K8s environment\n",
    "- Tested with Docker Desktop with Kubernetes on Mac \n"
   ]
  },
  {
   "cell_type": "markdown",
   "id": "653c6360-c6a2-4cf7-9949-7de200ee976d",
   "metadata": {},
   "source": [
    "## Demo prep\n",
    "### First we are going to start Minio"
   ]
  },
  {
   "cell_type": "code",
   "execution_count": null,
   "id": "24198fc5-4428-4d5c-8707-da20242688af",
   "metadata": {},
   "outputs": [],
   "source": [
    "ls"
   ]
  },
  {
   "cell_type": "code",
   "execution_count": null,
   "id": "e66fe7d5-e9e1-4c43-90e7-e8dc2f281298",
   "metadata": {},
   "outputs": [],
   "source": [
    "kubectl create secret generic minio-creds \\\n",
    "  --from-literal=MINIO_ACCESS_KEY=admin \\\n",
    "  --from-literal=MINIO_SECRET_KEY=password"
   ]
  },
  {
   "cell_type": "markdown",
   "id": "17d4848f-aa1e-4fba-ab0a-563ae5138d99",
   "metadata": {},
   "source": [
    "### Then we are going to run the Minio container"
   ]
  },
  {
   "cell_type": "code",
   "execution_count": null,
   "id": "a5cd58cb-6098-4b03-bbba-005405b3bb8f",
   "metadata": {},
   "outputs": [],
   "source": [
    "docker run -p 9000:9000 -p 9001:9001 \\\n",
    "           -e MINIO_ROOT_USER=admin \\\n",
    "           -e MINIO_ROOT_PASSWORD=password \\\n",
    "           -d --rm \\\n",
    "           minio/minio server /data \\\n",
    "           --console-address \":9001\""
   ]
  },
  {
   "cell_type": "markdown",
   "id": "235afaf1-65dc-458f-bf28-000a158b6bd5",
   "metadata": {},
   "source": [
    "### Open the Minio console"
   ]
  },
  {
   "cell_type": "code",
   "execution_count": null,
   "id": "48f2c0ad-78c6-45fb-9a8a-26fd41feae96",
   "metadata": {},
   "outputs": [],
   "source": [
    "open http://localhost:9001"
   ]
  },
  {
   "cell_type": "markdown",
   "id": "90b802a3-b12a-4d43-b1ab-5ae9e4104fec",
   "metadata": {
    "jp-MarkdownHeadingCollapsed": true
   },
   "source": [
    "## Configuration"
   ]
  },
  {
   "cell_type": "markdown",
   "id": "c23e0905-692a-4f89-a825-ea87e7594f52",
   "metadata": {},
   "source": [
    "## Install plugin"
   ]
  },
  {
   "cell_type": "code",
   "execution_count": null,
   "id": "e48c9dc0-3907-4bdf-b8e6-f7964bc4564f",
   "metadata": {},
   "outputs": [],
   "source": [
    "curl -sSfL https://github.com/cloudnative-pg/cloudnative-pg/raw/main/hack/install-cnpg-plugin.sh | sh -s -- -b /usr/local/bin"
   ]
  },
  {
   "cell_type": "markdown",
   "id": "cfd61d28-78d6-45fb-8c13-ed289f0b29ae",
   "metadata": {},
   "source": [
    "## Install operator"
   ]
  },
  {
   "cell_type": "code",
   "execution_count": null,
   "id": "97ef429b-6453-4aef-bdf3-0e8baef69219",
   "metadata": {},
   "outputs": [],
   "source": [
    "version1=`kubectl-cnpg version | awk '{ print $2 }' | awk -F\":\" '{ print $2}'`\n",
    "version2=${version1%??}\n",
    "kubectl apply -f https://raw.githubusercontent.com/cloudnative-pg/cloudnative-pg/release-$version2/releases/cnpg-$version1.yaml"
   ]
  },
  {
   "cell_type": "markdown",
   "id": "ca1fd533-32f5-4724-b4d1-f9a0fb411b54",
   "metadata": {},
   "source": [
    "## Check operator installed"
   ]
  },
  {
   "cell_type": "code",
   "execution_count": null,
   "id": "0bb9e4ba-48f5-4805-8da4-876c4e54ea4d",
   "metadata": {},
   "outputs": [],
   "source": [
    "kubectl get deploy -n cnpg-system cnpg-controller-manager -o wide"
   ]
  },
  {
   "cell_type": "markdown",
   "id": "6c5a7909-4e38-40ff-9db0-020913006326",
   "metadata": {},
   "source": [
    "# Create cluster"
   ]
  },
  {
   "cell_type": "markdown",
   "id": "4a3cc623-5d1a-4cf4-bb5d-9bbee65c4a74",
   "metadata": {},
   "source": [
    "## Install cluster"
   ]
  },
  {
   "cell_type": "code",
   "execution_count": null,
   "id": "a269cc86-4fc0-4b34-9904-869f54cf3fff",
   "metadata": {},
   "outputs": [],
   "source": [
    "kubectl apply -f cluster-example.yaml"
   ]
  },
  {
   "cell_type": "markdown",
   "id": "4ddb43b3-8740-441e-9c53-26909d6c5cce",
   "metadata": {},
   "source": [
    "## Show status"
   ]
  },
  {
   "cell_type": "markdown",
   "id": "7b7608cc-ee7d-4d31-bd76-7ab0588f2910",
   "metadata": {},
   "source": [
    "`watch -c -n 1 kubectl-cnpg status cluster-example`"
   ]
  },
  {
   "cell_type": "markdown",
   "id": "ef7a32b3-74ba-426d-88a2-e0c6a4c8715e",
   "metadata": {},
   "source": [
    "## Insert data"
   ]
  },
  {
   "cell_type": "code",
   "execution_count": null,
   "id": "fc48eafb-a7a7-47f4-8b01-2536e98badb7",
   "metadata": {},
   "outputs": [],
   "source": [
    "kubectl exec -i cluster-example-1 -- psql < sqltest.sql"
   ]
  },
  {
   "cell_type": "markdown",
   "id": "8de81fa9-d8ed-4be6-ace4-f4b47927a60c",
   "metadata": {},
   "source": [
    "## Check data"
   ]
  },
  {
   "cell_type": "code",
   "execution_count": null,
   "id": "98367a66-768c-4254-969b-e11f3ddf2472",
   "metadata": {},
   "outputs": [],
   "source": [
    "kubectl exec -it cluster-example-1 -- psql -c \"select * from test limit 15;\""
   ]
  },
  {
   "cell_type": "code",
   "execution_count": null,
   "id": "9f37ffbf-b999-45d0-90c3-cd2f17dd0d22",
   "metadata": {},
   "outputs": [],
   "source": [
    "kubectl exec -it cluster-example-1 -- psql -c \"select count(*) from test;\""
   ]
  },
  {
   "cell_type": "markdown",
   "id": "6fdfc421-5e11-47eb-9b92-8834e047c468",
   "metadata": {},
   "source": [
    "# Promotion \n",
    "## Promotion of node 2 to Primary"
   ]
  },
  {
   "cell_type": "code",
   "execution_count": null,
   "id": "66edf311-2b37-4709-8616-44f131e3f054",
   "metadata": {},
   "outputs": [],
   "source": [
    "kubectl-cnpg promote cluster-example cluster-example-2"
   ]
  },
  {
   "cell_type": "markdown",
   "id": "ff5ab133-4a88-4302-a96b-ebf5f3be8dce",
   "metadata": {},
   "source": [
    "# In-place rolling upgrade minor version\n",
    "## Update from Postgres 14.2 to 14.5"
   ]
  },
  {
   "cell_type": "code",
   "execution_count": null,
   "id": "853cbc65-21ad-4d7e-a1e2-777c6bed9f57",
   "metadata": {},
   "outputs": [],
   "source": [
    "kubectl apply -f cluster-example-upgrade.yaml"
   ]
  },
  {
   "cell_type": "markdown",
   "id": "b20ffa5b-0411-4445-8377-343ce7abd2ea",
   "metadata": {},
   "source": [
    "# Backup & restore\n",
    "## Backup cluster"
   ]
  },
  {
   "cell_type": "code",
   "execution_count": null,
   "id": "f6d7f8a5-b5c7-40ca-9b26-ec92515897fe",
   "metadata": {},
   "outputs": [],
   "source": [
    "kubectl apply -f backup.yaml"
   ]
  },
  {
   "cell_type": "markdown",
   "id": "dc25d5b9-ff44-4f12-b386-90b0c0b46d2e",
   "metadata": {},
   "source": [
    "## Verify backup"
   ]
  },
  {
   "cell_type": "code",
   "execution_count": null,
   "id": "7c461246-fa71-4788-abbe-2922d9ff1949",
   "metadata": {},
   "outputs": [],
   "source": [
    "kubectl describe backup backup-test"
   ]
  },
  {
   "cell_type": "markdown",
   "id": "2169b20b-fc9a-4fd0-8319-9855019a53ac",
   "metadata": {},
   "source": [
    "## Restore to new cluster"
   ]
  },
  {
   "cell_type": "code",
   "execution_count": null,
   "id": "2c04b505-2eb6-4991-85e2-72639ca7a500",
   "metadata": {},
   "outputs": [],
   "source": [
    "kubectl apply -f restore.yaml"
   ]
  },
  {
   "cell_type": "markdown",
   "id": "3ca13cd1-a8de-483f-ae8a-9e3c624b3883",
   "metadata": {},
   "source": [
    "## Verify restore"
   ]
  },
  {
   "cell_type": "markdown",
   "id": "f3e2b582-0088-46d8-b23c-8853aefd0e88",
   "metadata": {},
   "source": [
    "`watch -c -n 1 kubectl-cnpg status cluster-restore`"
   ]
  },
  {
   "cell_type": "code",
   "execution_count": null,
   "id": "123b90d2-a3b1-42d6-abbe-b006e71f582e",
   "metadata": {},
   "outputs": [],
   "source": [
    "kubectl exec -it cluster-restore-1 -- psql -c \"select * from test limit 15;\""
   ]
  },
  {
   "cell_type": "code",
   "execution_count": null,
   "id": "bf966d58-6069-4e54-ad21-87995ca95e73",
   "metadata": {},
   "outputs": [],
   "source": [
    "kubectl exec -it cluster-restore-1 -- psql -c \"select count(*) from test;\""
   ]
  },
  {
   "cell_type": "markdown",
   "id": "8dbbe041-eccf-49c4-8a14-36cef31447e3",
   "metadata": {},
   "source": [
    "# Failover \n",
    "## Delete Primary pod"
   ]
  },
  {
   "cell_type": "code",
   "execution_count": null,
   "id": "90cfb362-c25a-40ea-8def-4e2b57b46aac",
   "metadata": {},
   "outputs": [],
   "source": [
    "kubectl delete pod cluster-example-1 --force"
   ]
  },
  {
   "cell_type": "markdown",
   "id": "2a189185-f55f-46e8-a3b6-95223841902a",
   "metadata": {},
   "source": [
    "`watch -c -n 1 kubectl-cnpg status cluster-example`"
   ]
  },
  {
   "cell_type": "markdown",
   "id": "65a0b5a3-f40d-4213-b702-117bb33e5ab3",
   "metadata": {},
   "source": [
    "# Migration major version\n",
    "## Create Postgres 13 cluster"
   ]
  },
  {
   "cell_type": "code",
   "execution_count": null,
   "id": "1b419fcf-0109-46b8-afb0-b762eb994ccf",
   "metadata": {},
   "outputs": [],
   "source": [
    "kubectl apply -f cluster-example-13.yaml"
   ]
  },
  {
   "cell_type": "markdown",
   "id": "da41fa67-5972-4132-a39d-09ce7fdd7f80",
   "metadata": {},
   "source": [
    "`watch -c -n 1 kubectl-cnpg status cluster-example-13`"
   ]
  },
  {
   "cell_type": "markdown",
   "id": "a3c0348c-4dd8-455c-81bb-1229337f5878",
   "metadata": {},
   "source": [
    "## Add data to cluster"
   ]
  },
  {
   "cell_type": "code",
   "execution_count": null,
   "id": "073d1160-1b1b-463c-9adf-84bb5e04b74f",
   "metadata": {},
   "outputs": [],
   "source": [
    "kubectl exec -it cluster-example-13-1 -- psql app < sqltest.sql"
   ]
  },
  {
   "cell_type": "markdown",
   "id": "c716f2e5-5433-4f68-9746-a93241045d8f",
   "metadata": {},
   "source": [
    "## Verify inserted data"
   ]
  },
  {
   "cell_type": "code",
   "execution_count": null,
   "id": "0bdc2a1c-55af-4ae8-9fc7-36de1a8c4ed8",
   "metadata": {},
   "outputs": [],
   "source": [
    "kubectl exec -it cluster-example-13-1 -- psql app -c \"select * from test limit 15;\""
   ]
  },
  {
   "cell_type": "code",
   "execution_count": null,
   "id": "59286ad7-ba80-4d31-be34-4633d1e351ea",
   "metadata": {},
   "outputs": [],
   "source": [
    "kubectl exec -it cluster-example-13-1 -- psql app -c \"select count(*) from test;\" app"
   ]
  },
  {
   "cell_type": "markdown",
   "id": "a6eaf76c-230d-48dc-83f6-9deb35b91585",
   "metadata": {},
   "source": [
    "## Create new Postgres 15 cluster based on Postgres 13 cluster"
   ]
  },
  {
   "cell_type": "code",
   "execution_count": null,
   "id": "b0da68d2-ee9d-49ea-a7b0-a7929da64385",
   "metadata": {},
   "outputs": [],
   "source": [
    "kubectl apply -f cluster-example-upgrade-13-to-15.yaml"
   ]
  },
  {
   "cell_type": "markdown",
   "id": "c5e9adba-aef2-4bd4-87fc-a88e504ef0ff",
   "metadata": {},
   "source": [
    "## Verify data in new cluster"
   ]
  },
  {
   "cell_type": "code",
   "execution_count": null,
   "id": "c5d73219-ceb7-4056-8a86-44c113dc01e3",
   "metadata": {},
   "outputs": [],
   "source": [
    "kubectl exec -it cluster-example-15-1 -- psql app -c \"select * from test limit 15;\""
   ]
  },
  {
   "cell_type": "code",
   "execution_count": null,
   "id": "c2ec924a-7dd3-45fd-861a-ed61a7649749",
   "metadata": {},
   "outputs": [],
   "source": [
    "kubectl exec -it cluster-example-15-1 -- psql app -c \"select count(*) from test;\""
   ]
  },
  {
   "cell_type": "markdown",
   "id": "d3bd52af-4b39-4d0e-8ab5-d62ddcda4326",
   "metadata": {},
   "source": [
    "# End of demo"
   ]
  },
  {
   "cell_type": "markdown",
   "id": "1638ba55-2e33-4335-b70e-0bab426ec5ac",
   "metadata": {},
   "source": [
    "## How to deploy and access the Kubernetes Dashboard"
   ]
  },
  {
   "cell_type": "code",
   "execution_count": null,
   "id": "a21a0896-9148-449f-8c5b-9247b014dda6",
   "metadata": {},
   "outputs": [],
   "source": [
    "./dashboard_install.sh"
   ]
  },
  {
   "cell_type": "markdown",
   "id": "031a3aab-201c-48bb-b828-499dd83353cc",
   "metadata": {},
   "source": [
    "# Links\n",
    "[https://github.com/minio/minio](https://github.com/minio/minio)\n",
    "\n",
    "[https://cloudnative-pg.io](https://cloudnative-pg.io)"
   ]
  },
  {
   "cell_type": "markdown",
   "id": "b841eb31-a1c0-495a-b572-82e836aa27eb",
   "metadata": {},
   "source": [
    "# Cleanup"
   ]
  },
  {
   "cell_type": "code",
   "execution_count": null,
   "id": "5212fcc5-0cef-4a77-a71b-a225748d2647",
   "metadata": {},
   "outputs": [],
   "source": [
    "kubectl delete backup backup-test\n",
    "kubectl delete deployments.apps -n cnpg-system cnpg-controller-manager\n",
    "version1=`kubectl-cnpg version | awk '{ print $2 }' | awk -F\":\" '{ print $2}'`\n",
    "version2=${version%??}\n",
    "kubectl delete -f https://raw.githubusercontent.com/cloudnative-pg/cloudnative-pg/release-$version2/releases/cnpg-$version1.yaml\n",
    "kubectl delete secret minio-creds\n",
    "docker ps | grep minio | awk '{print $1}' | xargs -I % docker stop %\n",
    "kubectl delete cluster cluster-example-13\n",
    "kubectl delete cluster cluster-example-15\n",
    "kubectl delete cluster cluster-example\n",
    "kubectl delete cluster cluster-restore\n",
    "docker pull ghcr.io/cloudnative-pg/postgresql:13\n",
    "docker pull ghcr.io/cloudnative-pg/postgresql:14.2\n",
    "docker pull ghcr.io/cloudnative-pg/postgresql:14.5\n",
    "docker pull ghcr.io/cloudnative-pg/postgresql:15.1"
   ]
  },
  {
   "cell_type": "markdown",
   "id": "4172e525-7e52-46d2-b9f4-12aecde3d2e7",
   "metadata": {},
   "source": [
    "## Uninstall Kubernetes Dashboard"
   ]
  },
  {
   "cell_type": "code",
   "execution_count": null,
   "id": "b2411892-1c5a-4a22-ae00-2cbeb6c6a131",
   "metadata": {},
   "outputs": [],
   "source": [
    "./dashboard_uninstall.sh"
   ]
  }
 ],
 "metadata": {
  "kernelspec": {
   "display_name": "Bash",
   "language": "bash",
   "name": "bash"
  },
  "language_info": {
   "codemirror_mode": "shell",
   "file_extension": ".sh",
   "mimetype": "text/x-sh",
   "name": "bash"
  }
 },
 "nbformat": 4,
 "nbformat_minor": 5
}
