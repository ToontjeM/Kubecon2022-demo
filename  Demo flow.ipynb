{
 "cells": [
  {
   "cell_type": "markdown",
   "id": "eb65cbff-b307-4dbc-9417-cee3de41cb3c",
   "metadata": {},
   "source": [
    "# Kubernetes demo"
   ]
  },
  {
   "cell_type": "markdown",
   "id": "de86ebb3-8f9e-4848-96b5-e71c596d215f",
   "metadata": {},
   "source": [
    "# Description\n",
    "In this demo I'll show you how to create a Postgres cluster with CloudNativePG kubernetes operator. The features that I want to show you are:\n",
    "- Kubernetes plugin install\n",
    "- CloudNativePG operator install\n",
    "- Postgres cluster install\n",
    "- Insert data in the cluster\n",
    "- Switchover (promote)\n",
    "- Failover\n",
    "- Backup\n",
    "- Recovery\n",
    "- Rolling updates (minor and major)\n",
    "\n",
    "# Prerequisites\n",
    "- K8s environment\n",
    "- Tested with Docker Desktop with Kubernetes on Mac \n"
   ]
  },
  {
   "cell_type": "markdown",
   "id": "653c6360-c6a2-4cf7-9949-7de200ee976d",
   "metadata": {},
   "source": [
    "## Demo prep"
   ]
  },
  {
   "cell_type": "markdown",
   "id": "28721c2a-6de0-478b-b829-c0c75589d5cf",
   "metadata": {},
   "source": [
    "### Find IP address of this machine"
   ]
  },
  {
   "cell_type": "code",
   "execution_count": null,
   "id": "26d6627e-a3de-4ff0-bbfe-9ee3d38c2b2b",
   "metadata": {},
   "outputs": [],
   "source": [
    "ipconfig getifaddr en0\n",
    "ipconfig getifaddr en6"
   ]
  },
  {
   "cell_type": "markdown",
   "id": "292bba02-62c7-48bd-950a-9f41919f240e",
   "metadata": {},
   "source": [
    "Enter this IP address in mycluster-upgrade.yaml"
   ]
  },
  {
   "cell_type": "markdown",
   "id": "0141e648-1069-4942-9767-a34bee929b91",
   "metadata": {},
   "source": [
    "### Start Minio"
   ]
  },
  {
   "cell_type": "code",
   "execution_count": 1,
   "id": "e66fe7d5-e9e1-4c43-90e7-e8dc2f281298",
   "metadata": {},
   "outputs": [
    {
     "name": "stdout",
     "output_type": "stream",
     "text": [
      "error: failed to create secret Post \"https://kubernetes.docker.internal:6443/api/v1/namespaces/default/secrets?fieldManager=kubectl-create&fieldValidation=Strict\": tls: failed to verify certificate: x509: certificate signed by unknown authority (possibly because of \"crypto/rsa: verification error\" while trying to verify candidate authority certificate \"kubernetes\")\n",
      "114506d66c10a5dcedc2cc85e502de6687777e35e3a060a7da9f8ab246998d81\n"
     ]
    }
   ],
   "source": [
    "kubectl create secret generic minio-creds \\\n",
    "  --from-literal=MINIO_ACCESS_KEY=admin \\\n",
    "  --from-literal=MINIO_SECRET_KEY=password\n",
    "\n",
    "docker run -p 9000:9000 -p 9001:9001 \\\n",
    "           -e MINIO_ROOT_USER=admin \\\n",
    "           -e MINIO_ROOT_PASSWORD=password \\\n",
    "           -d --rm \\\n",
    "           minio/minio server /data \\\n",
    "           --console-address \":9001\""
   ]
  },
  {
   "cell_type": "markdown",
   "id": "90b802a3-b12a-4d43-b1ab-5ae9e4104fec",
   "metadata": {},
   "source": [
    "## Configuration"
   ]
  },
  {
   "cell_type": "markdown",
   "id": "c23e0905-692a-4f89-a825-ea87e7594f52",
   "metadata": {},
   "source": [
    "### Install plugin"
   ]
  },
  {
   "cell_type": "code",
   "execution_count": null,
   "id": "e48c9dc0-3907-4bdf-b8e6-f7964bc4564f",
   "metadata": {},
   "outputs": [],
   "source": [
    "curl -sSfL https://github.com/cloudnative-pg/cloudnative-pg/raw/main/hack/install-cnpg-plugin.sh | sh -s -- -b /usr/local/bin"
   ]
  },
  {
   "cell_type": "markdown",
   "id": "cfd61d28-78d6-45fb-8c13-ed289f0b29ae",
   "metadata": {},
   "source": [
    "### Install operator"
   ]
  },
  {
   "cell_type": "code",
   "execution_count": null,
   "id": "97ef429b-6453-4aef-bdf3-0e8baef69219",
   "metadata": {},
   "outputs": [],
   "source": [
    "version1=`kubectl-cnpg version | awk '{ print $2 }' | awk -F\":\" '{ print $2}'`\n",
    "version2=${version1%??}\n",
    "kubectl apply -f https://raw.githubusercontent.com/cloudnative-pg/cloudnative-pg/release-$version2/releases/cnpg-$version1.yaml"
   ]
  },
  {
   "cell_type": "markdown",
   "id": "ca1fd533-32f5-4724-b4d1-f9a0fb411b54",
   "metadata": {},
   "source": [
    "### Check operator installed"
   ]
  },
  {
   "cell_type": "code",
   "execution_count": null,
   "id": "0bb9e4ba-48f5-4805-8da4-876c4e54ea4d",
   "metadata": {},
   "outputs": [],
   "source": [
    "kubectl get deploy -n cnpg-system cnpg-controller-manager -o wide"
   ]
  },
  {
   "cell_type": "markdown",
   "id": "6c5a7909-4e38-40ff-9db0-020913006326",
   "metadata": {},
   "source": [
    "## Create cluster"
   ]
  },
  {
   "cell_type": "markdown",
   "id": "4a3cc623-5d1a-4cf4-bb5d-9bbee65c4a74",
   "metadata": {},
   "source": [
    "### Install cluster"
   ]
  },
  {
   "cell_type": "code",
   "execution_count": null,
   "id": "3e72271f-f944-4531-aaea-3d70562297b1",
   "metadata": {},
   "outputs": [],
   "source": [
    "cat mycluster.yaml"
   ]
  },
  {
   "cell_type": "code",
   "execution_count": null,
   "id": "a269cc86-4fc0-4b34-9904-869f54cf3fff",
   "metadata": {
    "scrolled": true
   },
   "outputs": [],
   "source": [
    "kubectl apply -f mycluster.yaml"
   ]
  },
  {
   "cell_type": "code",
   "execution_count": null,
   "id": "96fb92dd-bd60-49ec-8acb-ea6347ebfdab",
   "metadata": {},
   "outputs": [],
   "source": [
    "kubectl get pods"
   ]
  },
  {
   "cell_type": "markdown",
   "id": "4ddb43b3-8740-441e-9c53-26909d6c5cce",
   "metadata": {},
   "source": [
    "### Show status"
   ]
  },
  {
   "cell_type": "markdown",
   "id": "7b7608cc-ee7d-4d31-bd76-7ab0588f2910",
   "metadata": {},
   "source": [
    "`watch -c -n 1 kubectl-cnpg status mycluster`"
   ]
  },
  {
   "cell_type": "markdown",
   "id": "ef7a32b3-74ba-426d-88a2-e0c6a4c8715e",
   "metadata": {},
   "source": [
    "### Insert data"
   ]
  },
  {
   "cell_type": "code",
   "execution_count": null,
   "id": "8a6ece58-fccd-424d-b4c9-9467553792e1",
   "metadata": {},
   "outputs": [],
   "source": [
    "cat sqltest.sql"
   ]
  },
  {
   "cell_type": "code",
   "execution_count": null,
   "id": "fc48eafb-a7a7-47f4-8b01-2536e98badb7",
   "metadata": {
    "scrolled": true
   },
   "outputs": [],
   "source": [
    "kubectl exec -i mycluster-1 -- psql < sqltest.sql"
   ]
  },
  {
   "cell_type": "markdown",
   "id": "8de81fa9-d8ed-4be6-ace4-f4b47927a60c",
   "metadata": {},
   "source": [
    "### Check data"
   ]
  },
  {
   "cell_type": "code",
   "execution_count": null,
   "id": "98367a66-768c-4254-969b-e11f3ddf2472",
   "metadata": {
    "scrolled": true
   },
   "outputs": [],
   "source": [
    "kubectl exec -it mycluster-2 -- psql -c \"select * from test limit 15;\""
   ]
  },
  {
   "cell_type": "code",
   "execution_count": null,
   "id": "9f37ffbf-b999-45d0-90c3-cd2f17dd0d22",
   "metadata": {},
   "outputs": [],
   "source": [
    "kubectl exec -it mycluster-2 -- psql -c \"select count(*) from test;\""
   ]
  },
  {
   "cell_type": "markdown",
   "id": "6fdfc421-5e11-47eb-9b92-8834e047c468",
   "metadata": {},
   "source": [
    "## Promotion "
   ]
  },
  {
   "cell_type": "markdown",
   "id": "f04874c9-cd77-4828-baec-5e2aba3a8ca1",
   "metadata": {},
   "source": [
    "### Promotion of node 2 to Primary"
   ]
  },
  {
   "cell_type": "code",
   "execution_count": null,
   "id": "66edf311-2b37-4709-8616-44f131e3f054",
   "metadata": {},
   "outputs": [],
   "source": [
    "kubectl-cnpg promote mycluster mycluster-2"
   ]
  },
  {
   "cell_type": "markdown",
   "id": "ff5ab133-4a88-4302-a96b-ebf5f3be8dce",
   "metadata": {},
   "source": [
    "## In-place rolling upgrade minor version"
   ]
  },
  {
   "cell_type": "markdown",
   "id": "716c58a8-1afa-4ac0-a9fa-094da9c1bc4d",
   "metadata": {},
   "source": [
    "### Update from Postgres 14.2 to 14.5"
   ]
  },
  {
   "cell_type": "code",
   "execution_count": null,
   "id": "cde56b9c-3644-487d-83a9-5505ffc2ecc6",
   "metadata": {},
   "outputs": [],
   "source": [
    "cat mycluster-upgrade.yaml"
   ]
  },
  {
   "cell_type": "code",
   "execution_count": null,
   "id": "853cbc65-21ad-4d7e-a1e2-777c6bed9f57",
   "metadata": {},
   "outputs": [],
   "source": [
    "kubectl apply -f mycluster-upgrade.yaml"
   ]
  },
  {
   "cell_type": "markdown",
   "id": "b20ffa5b-0411-4445-8377-343ce7abd2ea",
   "metadata": {},
   "source": [
    "## Backup & restore"
   ]
  },
  {
   "cell_type": "markdown",
   "id": "235afaf1-65dc-458f-bf28-000a158b6bd5",
   "metadata": {},
   "source": [
    "### Open the Minio console"
   ]
  },
  {
   "cell_type": "code",
   "execution_count": null,
   "id": "48f2c0ad-78c6-45fb-9a8a-26fd41feae96",
   "metadata": {},
   "outputs": [],
   "source": [
    "open http://localhost:9001"
   ]
  },
  {
   "cell_type": "markdown",
   "id": "5db743c3-168b-4543-a28d-167f96181c98",
   "metadata": {},
   "source": [
    "### Backup cluster"
   ]
  },
  {
   "cell_type": "code",
   "execution_count": null,
   "id": "2ceec9dd-0afd-4bb1-911a-145c4f87a935",
   "metadata": {},
   "outputs": [],
   "source": [
    "cat backup.yaml"
   ]
  },
  {
   "cell_type": "code",
   "execution_count": null,
   "id": "f6d7f8a5-b5c7-40ca-9b26-ec92515897fe",
   "metadata": {},
   "outputs": [],
   "source": [
    "kubectl apply -f backup.yaml"
   ]
  },
  {
   "cell_type": "markdown",
   "id": "dc25d5b9-ff44-4f12-b386-90b0c0b46d2e",
   "metadata": {},
   "source": [
    "### Verify backup"
   ]
  },
  {
   "cell_type": "code",
   "execution_count": null,
   "id": "7c461246-fa71-4788-abbe-2922d9ff1949",
   "metadata": {},
   "outputs": [],
   "source": [
    "kubectl describe backup mybackup"
   ]
  },
  {
   "cell_type": "markdown",
   "id": "2169b20b-fc9a-4fd0-8319-9855019a53ac",
   "metadata": {},
   "source": [
    "### Restore to new cluster"
   ]
  },
  {
   "cell_type": "code",
   "execution_count": null,
   "id": "53decfd5-5fb6-4fe3-b9f5-91e3b4bc53d7",
   "metadata": {},
   "outputs": [],
   "source": [
    "cat restore.yaml"
   ]
  },
  {
   "cell_type": "code",
   "execution_count": null,
   "id": "2c04b505-2eb6-4991-85e2-72639ca7a500",
   "metadata": {},
   "outputs": [],
   "source": [
    "kubectl exec -it mycluster-2 -- psql -c \"select pg_switch_wal();\"\n",
    "kubectl apply -f restore.yaml"
   ]
  },
  {
   "cell_type": "markdown",
   "id": "3ca13cd1-a8de-483f-ae8a-9e3c624b3883",
   "metadata": {},
   "source": [
    "### Verify restore"
   ]
  },
  {
   "cell_type": "markdown",
   "id": "f3e2b582-0088-46d8-b23c-8853aefd0e88",
   "metadata": {},
   "source": [
    "`watch -c -n 1 kubectl-cnpg status mycluster-restore`"
   ]
  },
  {
   "cell_type": "code",
   "execution_count": null,
   "id": "123b90d2-a3b1-42d6-abbe-b006e71f582e",
   "metadata": {},
   "outputs": [],
   "source": [
    "kubectl exec -it mycluster-restore-1 -- psql -c \"select * from test limit 15;\""
   ]
  },
  {
   "cell_type": "code",
   "execution_count": null,
   "id": "bf966d58-6069-4e54-ad21-87995ca95e73",
   "metadata": {},
   "outputs": [],
   "source": [
    "kubectl exec -it mycluster-restore-1 -- psql -c \"select count(*) from test;\""
   ]
  },
  {
   "cell_type": "markdown",
   "id": "8dbbe041-eccf-49c4-8a14-36cef31447e3",
   "metadata": {},
   "source": [
    "## Failover "
   ]
  },
  {
   "cell_type": "markdown",
   "id": "717a4a2e-15d7-4e51-9b78-fc188e79358f",
   "metadata": {},
   "source": [
    "### Delete Primary pod"
   ]
  },
  {
   "cell_type": "code",
   "execution_count": null,
   "id": "90cfb362-c25a-40ea-8def-4e2b57b46aac",
   "metadata": {},
   "outputs": [],
   "source": [
    "kubectl delete pod mycluster-2 --force"
   ]
  },
  {
   "cell_type": "markdown",
   "id": "2a189185-f55f-46e8-a3b6-95223841902a",
   "metadata": {},
   "source": [
    "`watch -c -n 1 kubectl-cnpg status mycluster`"
   ]
  },
  {
   "cell_type": "markdown",
   "id": "65a0b5a3-f40d-4213-b702-117bb33e5ab3",
   "metadata": {},
   "source": [
    "## Migration major version"
   ]
  },
  {
   "cell_type": "markdown",
   "id": "d2fd9d5b-16b7-4d2f-8cea-3be6d4d2f4a4",
   "metadata": {},
   "source": [
    "### Create Postgres 13 cluster"
   ]
  },
  {
   "cell_type": "code",
   "execution_count": null,
   "id": "1b419fcf-0109-46b8-afb0-b762eb994ccf",
   "metadata": {},
   "outputs": [],
   "source": [
    "kubectl apply -f cluster-example-13.yaml"
   ]
  },
  {
   "cell_type": "markdown",
   "id": "da41fa67-5972-4132-a39d-09ce7fdd7f80",
   "metadata": {},
   "source": [
    "`watch -c -n 1 kubectl-cnpg status cluster-example-13`"
   ]
  },
  {
   "cell_type": "markdown",
   "id": "a3c0348c-4dd8-455c-81bb-1229337f5878",
   "metadata": {},
   "source": [
    "### Add data to cluster"
   ]
  },
  {
   "cell_type": "code",
   "execution_count": null,
   "id": "073d1160-1b1b-463c-9adf-84bb5e04b74f",
   "metadata": {},
   "outputs": [],
   "source": [
    "kubectl exec -it cluster-example-13-1 -- psql app < sqltest.sql"
   ]
  },
  {
   "cell_type": "markdown",
   "id": "c716f2e5-5433-4f68-9746-a93241045d8f",
   "metadata": {},
   "source": [
    "### Verify inserted data"
   ]
  },
  {
   "cell_type": "code",
   "execution_count": null,
   "id": "0bdc2a1c-55af-4ae8-9fc7-36de1a8c4ed8",
   "metadata": {},
   "outputs": [],
   "source": [
    "kubectl exec -it cluster-example-13-1 -- psql app -c \"select * from test limit 15;\""
   ]
  },
  {
   "cell_type": "code",
   "execution_count": null,
   "id": "59286ad7-ba80-4d31-be34-4633d1e351ea",
   "metadata": {},
   "outputs": [],
   "source": [
    "kubectl exec -it cluster-example-13-1 -- psql app -c \"select count(*) from test;\" app"
   ]
  },
  {
   "cell_type": "markdown",
   "id": "a6eaf76c-230d-48dc-83f6-9deb35b91585",
   "metadata": {},
   "source": [
    "### Create new Postgres 15 cluster based on Postgres 13 cluster"
   ]
  },
  {
   "cell_type": "code",
   "execution_count": null,
   "id": "b0da68d2-ee9d-49ea-a7b0-a7929da64385",
   "metadata": {},
   "outputs": [],
   "source": [
    "kubectl apply -f cluster-example-upgrade-13-to-15.yaml"
   ]
  },
  {
   "cell_type": "markdown",
   "id": "c5e9adba-aef2-4bd4-87fc-a88e504ef0ff",
   "metadata": {},
   "source": [
    "### Verify data in new cluster"
   ]
  },
  {
   "cell_type": "code",
   "execution_count": null,
   "id": "c5d73219-ceb7-4056-8a86-44c113dc01e3",
   "metadata": {},
   "outputs": [],
   "source": [
    "kubectl exec -it cluster-example-15-1 -- psql app -c \"select * from test limit 15;\""
   ]
  },
  {
   "cell_type": "code",
   "execution_count": null,
   "id": "c2ec924a-7dd3-45fd-861a-ed61a7649749",
   "metadata": {},
   "outputs": [],
   "source": [
    "kubectl exec -it cluster-example-15-1 -- psql app -c \"select count(*) from test;\""
   ]
  },
  {
   "cell_type": "markdown",
   "id": "d3bd52af-4b39-4d0e-8ab5-d62ddcda4326",
   "metadata": {},
   "source": [
    "# End of demo"
   ]
  },
  {
   "cell_type": "markdown",
   "id": "1638ba55-2e33-4335-b70e-0bab426ec5ac",
   "metadata": {},
   "source": [
    "## How to deploy and access the Kubernetes Dashboard"
   ]
  },
  {
   "cell_type": "code",
   "execution_count": null,
   "id": "a21a0896-9148-449f-8c5b-9247b014dda6",
   "metadata": {},
   "outputs": [],
   "source": [
    "./dashboard_install.sh"
   ]
  },
  {
   "cell_type": "markdown",
   "id": "031a3aab-201c-48bb-b828-499dd83353cc",
   "metadata": {},
   "source": [
    "# Links\n",
    "[https://github.com/minio/minio](https://github.com/minio/minio)\n",
    "\n",
    "[https://cloudnative-pg.io](https://cloudnative-pg.io)"
   ]
  },
  {
   "cell_type": "markdown",
   "id": "b841eb31-a1c0-495a-b572-82e836aa27eb",
   "metadata": {},
   "source": [
    "# Cleanup"
   ]
  },
  {
   "cell_type": "code",
   "execution_count": 2,
   "id": "5212fcc5-0cef-4a77-a71b-a225748d2647",
   "metadata": {},
   "outputs": [
    {
     "name": "stdout",
     "output_type": "stream",
     "text": [
      "error: the server doesn't have a resource type \"backup\"\n",
      "Error from server (NotFound): deployments.apps \"cnpg-controller-manager\" not found\n",
      "error: unable to read URL \"https://raw.githubusercontent.com/cloudnative-pg/cloudnative-pg/release-/releases/cnpg-1.21.1.yaml\", server reported 404 Not Found, status code=404\n",
      "Error from server (NotFound): secrets \"minio-creds\" not found\n",
      "114506d66c10\n",
      "error: the server doesn't have a resource type \"cluster\"\n",
      "error: the server doesn't have a resource type \"cluster\"\n",
      "error: the server doesn't have a resource type \"cluster\"\n",
      "error: the server doesn't have a resource type \"cluster\"\n",
      "13: Pulling from cloudnative-pg/postgresql\n",
      "Digest: sha256:677219dd03bf3bbff1ec85fb9a6da6e2f06f44a2156bb9afae9c803ab7191716\n",
      "Status: Image is up to date for ghcr.io/cloudnative-pg/postgresql:13\n",
      "ghcr.io/cloudnative-pg/postgresql:13\n",
      "\u001b[1m\n",
      "What's Next?\n",
      "\u001b[0m  View a summary of image vulnerabilities and recommendations → \u001b[36mdocker scout quickview ghcr.io/cloudnative-pg/postgresql:13\u001b[0m\n",
      "14.2: Pulling from cloudnative-pg/postgresql\n",
      "Digest: sha256:147a9969246c5a3c4592258f5f165e9ff9540eaf5c284733b26b11210a885787\n",
      "Status: Image is up to date for ghcr.io/cloudnative-pg/postgresql:14.2\n",
      "ghcr.io/cloudnative-pg/postgresql:14.2\n",
      "\u001b[1m\n",
      "What's Next?\n",
      "\u001b[0m  View a summary of image vulnerabilities and recommendations → \u001b[36mdocker scout quickview ghcr.io/cloudnative-pg/postgresql:14.2\u001b[0m\n",
      "14.5: Pulling from cloudnative-pg/postgresql\n",
      "\n",
      "\u001b[1B5326b091: Pulling fs layer \n",
      "\u001b[1B03f17886: Pulling fs layer \n",
      "\u001b[1Bf7e78134: Pulling fs layer \n",
      "\u001b[1B73b7ae91: Pulling fs layer \n",
      "\u001b[1Bb1679915: Pulling fs layer \n",
      "\u001b[1B20fc03c5: Pulling fs layer \n",
      "\u001b[1B84d6672c: Pulling fs layer \n",
      "\u001b[1Bb95d5849: Pulling fs layer \n",
      "\u001b[1B5d32a2b6: Pulling fs layer \n",
      "\u001b[1B7aaa5f27: Pulling fs layer \n",
      "\u001b[1B5a07ef3f: Pulling fs layer \n",
      "\u001b[1B13fb2a7b: Pulling fs layer \n",
      "\u001b[1B93d36fee: Pulling fs layer \n",
      "\u001b[1Bac03ad2f: Pulling fs layer \n",
      "\u001b[1Bb1ae85f3: Pulling fs layer \n",
      "\u001b[1Bab0e9cc6: Pulling fs layer \n",
      "\u001b[1BDigest: sha256:b3b30d04b362099b68c0c718491ad5fa5f2f7709d046492a5e3726ffdb95aa5c\n",
      "Status: Downloaded newer image for ghcr.io/cloudnative-pg/postgresql:14.5\n",
      "ghcr.io/cloudnative-pg/postgresql:14.5\n",
      "\u001b[1m\n",
      "What's Next?\n",
      "\u001b[0m  View a summary of image vulnerabilities and recommendations → \u001b[36mdocker scout quickview ghcr.io/cloudnative-pg/postgresql:14.5\u001b[0m\n",
      "15.1: Pulling from cloudnative-pg/postgresql\n",
      "\n",
      "\u001b[1B3680fed1: Pulling fs layer \n",
      "\u001b[1B4e59e691: Pulling fs layer \n",
      "\u001b[1Bf8df2b36: Pulling fs layer \n",
      "\u001b[1B87ef02b9: Pulling fs layer \n",
      "\u001b[1B0e9024d8: Pulling fs layer \n",
      "\u001b[1B68628bce: Pulling fs layer \n",
      "\u001b[1B1818cae3: Pulling fs layer \n",
      "\u001b[1B1fe612c1: Pulling fs layer \n",
      "\u001b[1Bcb2894c7: Pulling fs layer \n",
      "\u001b[1B76b73db0: Pulling fs layer \n",
      "\u001b[1Bb375a7d2: Pulling fs layer \n",
      "\u001b[1Baa1dc184: Pulling fs layer \n",
      "\u001b[1B8b356450: Pulling fs layer \n",
      "\u001b[1B499c85e7: Pulling fs layer \n",
      "\u001b[1B12e2b7f0: Pulling fs layer \n",
      "\u001b[1B3191341a: Pulling fs layer \n",
      "\u001b[1BDigest: sha256:303e84637bd5f9cfffb4454a93be0006106f21fa48dc8404374ac7003c5b96e1\n",
      "Status: Downloaded newer image for ghcr.io/cloudnative-pg/postgresql:15.1\n",
      "ghcr.io/cloudnative-pg/postgresql:15.1\n",
      "\u001b[1m\n",
      "What's Next?\n",
      "\u001b[0m  View a summary of image vulnerabilities and recommendations → \u001b[36mdocker scout quickview ghcr.io/cloudnative-pg/postgresql:15.1\u001b[0m\n"
     ]
    }
   ],
   "source": [
    "kubectl delete backup mybackup\n",
    "kubectl delete deployments.apps -n cnpg-system cnpg-controller-manager\n",
    "version1=`kubectl-cnpg version | awk '{ print $2 }' | awk -F\":\" '{ print $2}'`\n",
    "version2=${version%??}\n",
    "kubectl delete -f https://raw.githubusercontent.com/cloudnative-pg/cloudnative-pg/release-$version2/releases/cnpg-$version1.yaml\n",
    "kubectl delete secret minio-creds\n",
    "docker ps | grep minio | awk '{print $1}' | xargs -I % docker stop %\n",
    "kubectl delete cluster mycluster-13\n",
    "kubectl delete cluster mycluster-15\n",
    "kubectl delete cluster mycluster\n",
    "kubectl delete cluster mycluster-restore\n",
    "docker pull ghcr.io/cloudnative-pg/postgresql:13\n",
    "docker pull ghcr.io/cloudnative-pg/postgresql:14.2\n",
    "docker pull ghcr.io/cloudnative-pg/postgresql:14.5\n",
    "docker pull ghcr.io/cloudnative-pg/postgresql:15.1"
   ]
  },
  {
   "cell_type": "markdown",
   "id": "4172e525-7e52-46d2-b9f4-12aecde3d2e7",
   "metadata": {},
   "source": [
    "## Uninstall Kubernetes Dashboard"
   ]
  },
  {
   "cell_type": "code",
   "execution_count": null,
   "id": "b2411892-1c5a-4a22-ae00-2cbeb6c6a131",
   "metadata": {},
   "outputs": [],
   "source": [
    "./dashboard_uninstall.sh"
   ]
  },
  {
   "cell_type": "code",
   "execution_count": null,
   "id": "a845a09b-759b-4e69-9a12-aed5166a7762",
   "metadata": {},
   "outputs": [],
   "source": []
  }
 ],
 "metadata": {
  "kernelspec": {
   "display_name": "Bash",
   "language": "bash",
   "name": "bash"
  },
  "language_info": {
   "codemirror_mode": "shell",
   "file_extension": ".sh",
   "mimetype": "text/x-sh",
   "name": "bash"
  }
 },
 "nbformat": 4,
 "nbformat_minor": 5
}
